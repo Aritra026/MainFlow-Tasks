{
 "cells": [
  {
   "cell_type": "markdown",
   "metadata": {},
   "source": [
    "List \n",
    "-Addition of elements\n",
    "-Removal of element\n",
    "-Modifying or updation of list."
   ]
  },
  {
   "cell_type": "code",
   "execution_count": 1,
   "metadata": {},
   "outputs": [
    {
     "name": "stdout",
     "output_type": "stream",
     "text": [
      "Original list : [4, 7, 9, 20, 46, 60]\n",
      "After adding element : [4, 7, 9, 20, 46, 60, 34]\n",
      "After removing the elemnt : [4, 7, 9, 20, 60, 34]\n",
      "List after modification : [4, 7, 45, 20, 60, 34]\n"
     ]
    }
   ],
   "source": [
    "my_list = [4,7,9,20, 46, 60]\n",
    "print(\"Original list :\",my_list)\n",
    "my_list.append(34)\n",
    "print(\"After adding element :\",my_list)\n",
    "my_list.remove(46)\n",
    "print(\"After removing the elemnt :\",my_list)\n",
    "my_list[2]= 45\n",
    "print(\"List after modification :\", my_list)"
   ]
  },
  {
   "cell_type": "markdown",
   "metadata": {},
   "source": [
    "Dictionary\n",
    "-Addition of elements\n",
    "-Removal of element\n",
    "-Modifying or updation of Dictionary"
   ]
  },
  {
   "cell_type": "code",
   "execution_count": 2,
   "metadata": {},
   "outputs": [
    {
     "name": "stdout",
     "output_type": "stream",
     "text": [
      "Original Dictionary : {'Name': 'Aritra', 'Age': '21', 'Course': 'MCA', 'Domain': 'Data Analysis'}\n",
      "After addition of element : {'Name': 'Aritra', 'Age': '21', 'Course': 'MCA', 'Domain': 'Data Analysis', 'Hobby': 'Games'}\n",
      "Dictionary After removal of an element : {'Name': 'Aritra', 'Age': '21', 'Course': 'MCA', 'Domain': 'Data Analysis'}\n",
      "The updated Dictionary : {'Name': 'Aritra', 'Age': '21', 'Course': 'MCA', 'Domain': 'Data Analysis', 'State': 'West Bengal', 'Country': 'India'}\n"
     ]
    }
   ],
   "source": [
    "my_dict = {\n",
    "    \"Name\" : \"Aritra\", \"Age\" : \"21\", \"Course\" : \"MCA\", \"Domain\" : \"Data Analysis\"\n",
    "}\n",
    "print(\"Original Dictionary :\", my_dict )\n",
    "my_dict[\"Hobby\"]= \"Games\"\n",
    "print(\"After addition of element :\",my_dict)\n",
    "my_dict.pop(\"Hobby\")\n",
    "print(\"Dictionary After removal of an element :\", my_dict)\n",
    "region={\"State\":\"West Bengal\", \"Country\" :\"India\"}\n",
    "my_dict.update(region)\n",
    "print(\"The updated Dictionary :\",my_dict)\n",
    "\n"
   ]
  },
  {
   "cell_type": "markdown",
   "metadata": {},
   "source": [
    "Set\n",
    "-Addition of elements\n",
    "-Removal of element\n",
    "-Modifying or updation of Set."
   ]
  },
  {
   "cell_type": "code",
   "execution_count": 1,
   "metadata": {},
   "outputs": [
    {
     "name": "stdout",
     "output_type": "stream",
     "text": [
      "Original Set : {'Hello', 4, 5, 39, 79}\n",
      "After addition of element : {'Hello', 4, 5, 'Aritra', 39, 79}\n",
      "Set After removal of an element : {'Hello', 4, 'Aritra', 39, 79}\n",
      "The updated set : {'Hello', 4, 'Aritra', 20, 79}\n"
     ]
    }
   ],
   "source": [
    "my_set = {4 , 5, \"Hello\", 79, 39}\n",
    "print(\"Original Set :\", my_set )\n",
    "my_set.add(\"Aritra\")\n",
    "print(\"After addition of element :\",my_set)\n",
    "my_set.remove(5)\n",
    "print(\"Set After removal of an element :\", my_set)\n",
    "my_set.discard(39)\n",
    "my_set.add(20)\n",
    "print(\"The updated set :\",my_set)"
   ]
  }
 ],
 "metadata": {
  "kernelspec": {
   "display_name": "Python 3",
   "language": "python",
   "name": "python3"
  },
  "language_info": {
   "codemirror_mode": {
    "name": "ipython",
    "version": 3
   },
   "file_extension": ".py",
   "mimetype": "text/x-python",
   "name": "python",
   "nbconvert_exporter": "python",
   "pygments_lexer": "ipython3",
   "version": "3.12.1"
  }
 },
 "nbformat": 4,
 "nbformat_minor": 2
}
